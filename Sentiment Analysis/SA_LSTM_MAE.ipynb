{
 "cells": [
  {
   "cell_type": "markdown",
   "id": "7c046b2e",
   "metadata": {},
   "source": [
    "# Sentiment Analysis"
   ]
  },
  {
   "cell_type": "markdown",
   "id": "154525ac",
   "metadata": {},
   "source": [
    "## Import statements"
   ]
  },
  {
   "cell_type": "code",
   "execution_count": 1,
   "id": "43f7964f",
   "metadata": {},
   "outputs": [
    {
     "name": "stderr",
     "output_type": "stream",
     "text": [
      "/Users/laureneterno/opt/anaconda3/lib/python3.9/site-packages/scipy/__init__.py:146: UserWarning: A NumPy version >=1.16.5 and <1.23.0 is required for this version of SciPy (detected version 1.26.2\n",
      "  warnings.warn(f\"A NumPy version >={np_minversion} and <{np_maxversion}\"\n"
     ]
    }
   ],
   "source": [
    "import pandas as pd\n",
    "import re\n",
    "from functools import reduce\n",
    "from textblob import TextBlob"
   ]
  },
  {
   "cell_type": "markdown",
   "id": "e52bbaca",
   "metadata": {},
   "source": [
    "## Save excel files from data cleaning stage into DataFrames and name the timestamp column"
   ]
  },
  {
   "cell_type": "code",
   "execution_count": 2,
   "id": "361331f1",
   "metadata": {},
   "outputs": [],
   "source": [
    "nike = pd.read_excel('nike.xlsx')\n",
    "starbucks = pd.read_excel('starbucks.xlsx')\n",
    "target = pd.read_excel('target.xlsx')\n",
    "\n",
    "nike = nike.rename(columns = {'Unnamed: 0': 'timestamp'})\n",
    "starbucks = starbucks.rename(columns = {'Unnamed: 0': 'timestamp'})\n",
    "target = target.rename(columns = {'Unnamed: 0': 'timestamp'})"
   ]
  },
  {
   "cell_type": "markdown",
   "id": "69f692e6",
   "metadata": {},
   "source": [
    "## Define getPolarity function that uses the TextBlob library to perform sentiment analysis on the comments"
   ]
  },
  {
   "cell_type": "code",
   "execution_count": 3,
   "id": "48a852ae",
   "metadata": {},
   "outputs": [],
   "source": [
    "def getPolarity(text):\n",
    "   return TextBlob(text).sentiment.polarity"
   ]
  },
  {
   "cell_type": "markdown",
   "id": "684263d4",
   "metadata": {},
   "source": [
    "## Define sentiment analysis function that cleans the string data and assigns each date a polarity score using the TextBlob library"
   ]
  },
  {
   "cell_type": "code",
   "execution_count": 4,
   "id": "5be963cd",
   "metadata": {},
   "outputs": [],
   "source": [
    "def sentiment_analysis(df):\n",
    "    list = []\n",
    "    for x in df['comments']:\n",
    "    \n",
    "        # changes all of the characters to lowercase\n",
    "        x = str.lower(x)\n",
    "    \n",
    "        # removes all special characters\n",
    "        x = re.sub(r'[^a-zA-Z0-9\\s]+', '', x)\n",
    "    \n",
    "        # adds the modified column values to a list\n",
    "        list.append(x)\n",
    "\n",
    "        # adds the nike_list to a new dataframe\n",
    "        new_df = pd.DataFrame(list, columns =['comments'])\n",
    "\n",
    "    # adds the timestamps to the new dataframe\n",
    "    new_df = new_df.join(df['timestamp'])\n",
    "\n",
    "    # performs sentiment analysis on the comments from each day\n",
    "    new_df['polarity_score'] = new_df['comments'].apply(getPolarity)\n",
    "\n",
    "    # rearrange column order\n",
    "    new_df = new_df[['timestamp', 'polarity_score','comments']]\n",
    "\n",
    "    # set timestamp as index\n",
    "    new_df.set_index('timestamp')\n",
    "    \n",
    "    return new_df"
   ]
  },
  {
   "cell_type": "markdown",
   "id": "c0fac572",
   "metadata": {},
   "source": [
    "## Creates the new dataframe using the sentiment analysis function on each company's dataframe"
   ]
  },
  {
   "cell_type": "code",
   "execution_count": 5,
   "id": "941a2e2b",
   "metadata": {
    "scrolled": false
   },
   "outputs": [],
   "source": [
    "nike = sentiment_analysis(nike)"
   ]
  },
  {
   "cell_type": "code",
   "execution_count": 6,
   "id": "c155685c",
   "metadata": {},
   "outputs": [],
   "source": [
    "starbucks = sentiment_analysis(starbucks)"
   ]
  },
  {
   "cell_type": "code",
   "execution_count": 7,
   "id": "b4ec4cd1",
   "metadata": {},
   "outputs": [],
   "source": [
    "target = sentiment_analysis(target)"
   ]
  },
  {
   "cell_type": "markdown",
   "id": "35449831",
   "metadata": {},
   "source": [
    "# Machine Learning"
   ]
  },
  {
   "cell_type": "markdown",
   "id": "6e861e93",
   "metadata": {},
   "source": [
    "## Import Statements"
   ]
  },
  {
   "cell_type": "code",
   "execution_count": 8,
   "id": "5c9883fa",
   "metadata": {},
   "outputs": [
    {
     "name": "stderr",
     "output_type": "stream",
     "text": [
      "2023-12-06 17:23:28.381294: I tensorflow/core/platform/cpu_feature_guard.cc:182] This TensorFlow binary is optimized to use available CPU instructions in performance-critical operations.\n",
      "To enable the following instructions: AVX2 FMA, in other operations, rebuild TensorFlow with the appropriate compiler flags.\n"
     ]
    }
   ],
   "source": [
    "import numpy as np\n",
    "import pandas as pd\n",
    "from sklearn.preprocessing import MinMaxScaler\n",
    "from sklearn.model_selection import train_test_split\n",
    "from tensorflow.keras.models import Sequential\n",
    "from tensorflow.keras.layers import LSTM, Dense\n",
    "from sklearn.metrics import mean_absolute_error"
   ]
  },
  {
   "cell_type": "code",
   "execution_count": 9,
   "id": "d5875ff1",
   "metadata": {},
   "outputs": [],
   "source": [
    "nike_stock = pd.read_csv('nike_stock.csv')\n",
    "starbucks_stock = pd.read_csv('starbucks_stock.csv')\n",
    "target_stock = pd.read_csv('target_stock.csv')"
   ]
  },
  {
   "cell_type": "code",
   "execution_count": 10,
   "id": "f6ebe7ce",
   "metadata": {},
   "outputs": [],
   "source": [
    "def combine_and_clean(stock, sa):\n",
    "    \n",
    "    # drop columns not needed from initial data retreival\n",
    "    stock = stock.drop(['Open', 'High', 'Low', 'Adj Close', 'Volume'], axis = 1)\n",
    "    \n",
    "    # change columns to datetime type\n",
    "    sa['timestamp'] = pd.to_datetime(sa['timestamp'])\n",
    "    stock['Date'] = pd.to_datetime(stock['Date'])\n",
    "    \n",
    "    # perform an inner join to combine the dataframes by the dates available for both the sentiment analysis and the stock data\n",
    "    sa = sa.merge(stock, how = 'inner', left_on='timestamp', right_on = 'Date')\n",
    "    \n",
    "    # drop the date column as it is the same as the timestamp column (since the join was performed) and drop the comments column as the sentiment analysis was already completed\n",
    "    sa = sa.drop(['Date', 'comments'], axis = 1)\n",
    "    \n",
    "    # rename the Close column to close to match the lowercase in the other column names\n",
    "    sa = sa.rename(columns = {'Close': 'close'})\n",
    "    \n",
    "    # rename the timstamp column to date\n",
    "    sa = sa.rename(columns = {'timestamp':'date'})\n",
    "    \n",
    "    # Convert 'date' to numerical feature (number of days since the start)\n",
    "    sa['days_since_start'] = (sa['date'] - sa['date'].min()).dt.days\n",
    "        \n",
    "    #return the cleaned dataframe\n",
    "    return sa"
   ]
  },
  {
   "cell_type": "code",
   "execution_count": 11,
   "id": "341bb20b",
   "metadata": {},
   "outputs": [],
   "source": [
    "nike = combine_and_clean(nike_stock, nike)\n",
    "starbucks = combine_and_clean(starbucks_stock, starbucks)\n",
    "target = combine_and_clean(target_stock, target)"
   ]
  },
  {
   "cell_type": "code",
   "execution_count": 12,
   "id": "0e969f4c",
   "metadata": {},
   "outputs": [],
   "source": [
    "def model(df):\n",
    "    # feature selection\n",
    "    features = df[['days_since_start', 'polarity_score', 'close']].values\n",
    "    \n",
    "    # normalize data\n",
    "    # scales values between 0 and 1\n",
    "    scaler = MinMaxScaler(feature_range=(0, 1))\n",
    "    scaled_data = scaler.fit_transform(features)\n",
    "\n",
    "    # Define nested function to create dataset with input features and target variable\n",
    "    def create_dataset(data, time_steps=1):\n",
    "        # x represents the input features\n",
    "        # y represents the output variables\n",
    "        dataX, dataY = [], []\n",
    "        for i in range(len(data) - time_steps):\n",
    "            a = data[i:(i + time_steps), :]\n",
    "            dataX.append(a)\n",
    "            dataY.append(data[i + time_steps, 2])  # 'close' is the third column\n",
    "        return np.array(dataX), np.array(dataY)\n",
    "\n",
    "    # determines the sequence length for each input\n",
    "    time_steps = 10\n",
    "\n",
    "    # create dataset\n",
    "    x, y = create_dataset(scaled_data, time_steps)\n",
    "\n",
    "    # split data into training and testing\n",
    "    x_train, x_test, y_train, y_test = train_test_split(x, y, test_size=0.2, random_state=42)\n",
    "\n",
    "    # Build LSTM model\n",
    "    # 2 LSTM layers\n",
    "    model = Sequential()\n",
    "    model.add(LSTM(units=50, return_sequences=True, input_shape=(x_train.shape[1], x_train.shape[2])))\n",
    "    model.add(LSTM(units=50))\n",
    "    # Dense output layer\n",
    "    model.add(Dense(units=1))\n",
    "\n",
    "    # Compile the model\n",
    "    model.compile(optimizer='adam', loss='mean_squared_error')\n",
    "\n",
    "    # train the model\n",
    "    model.fit(x_train, y_train, epochs=50, batch_size=32)\n",
    "\n",
    "    # evaluate the model\n",
    "    test_loss = model.evaluate(x_test, y_test)\n",
    "\n",
    "    # define variable for test_loss output\n",
    "    test_loss_output = f'Test Loss: {test_loss}'\n",
    "\n",
    "    # make predictions\n",
    "    predictions = model.predict(x_test)\n",
    "\n",
    "    # inverse transform the predictions to get the original scale\n",
    "    predictions = scaler.inverse_transform(np.concatenate((x_test[:, -1, 0:2], predictions.reshape(-1, 1)), axis=1))[:, 2]\n",
    "    \n",
    "    # evaluate the predictions\n",
    "    actual_close = scaler.inverse_transform(np.concatenate((x_test[:, -1, 0:2], y_test.reshape(-1, 1)), axis=1))[:, 2]\n",
    "  \n",
    "    mae = mean_absolute_error(actual_close, predictions)\n",
    "    mae_output = f'Mean Absolute Error: {mae}'\n",
    "    return predictions, test_loss_output, mae_output"
   ]
  },
  {
   "cell_type": "code",
   "execution_count": 13,
   "id": "62bdcf0f",
   "metadata": {},
   "outputs": [
    {
     "name": "stdout",
     "output_type": "stream",
     "text": [
      "Epoch 1/50\n",
      "3/3 [==============================] - 3s 11ms/step - loss: 0.1967\n",
      "Epoch 2/50\n",
      "3/3 [==============================] - 0s 14ms/step - loss: 0.0788\n",
      "Epoch 3/50\n",
      "3/3 [==============================] - 0s 15ms/step - loss: 0.0379\n",
      "Epoch 4/50\n",
      "3/3 [==============================] - 0s 13ms/step - loss: 0.0540\n",
      "Epoch 5/50\n",
      "3/3 [==============================] - 0s 14ms/step - loss: 0.0484\n",
      "Epoch 6/50\n",
      "3/3 [==============================] - 0s 12ms/step - loss: 0.0355\n",
      "Epoch 7/50\n",
      "3/3 [==============================] - 0s 15ms/step - loss: 0.0321\n",
      "Epoch 8/50\n",
      "3/3 [==============================] - 0s 9ms/step - loss: 0.0341\n",
      "Epoch 9/50\n",
      "3/3 [==============================] - 0s 8ms/step - loss: 0.0332\n",
      "Epoch 10/50\n",
      "3/3 [==============================] - 0s 10ms/step - loss: 0.0295\n",
      "Epoch 11/50\n",
      "3/3 [==============================] - 0s 7ms/step - loss: 0.0271\n",
      "Epoch 12/50\n",
      "3/3 [==============================] - 0s 9ms/step - loss: 0.0273\n",
      "Epoch 13/50\n",
      "3/3 [==============================] - 0s 8ms/step - loss: 0.0282\n",
      "Epoch 14/50\n",
      "3/3 [==============================] - 0s 9ms/step - loss: 0.0270\n",
      "Epoch 15/50\n",
      "3/3 [==============================] - 0s 8ms/step - loss: 0.0249\n",
      "Epoch 16/50\n",
      "3/3 [==============================] - 0s 7ms/step - loss: 0.0252\n",
      "Epoch 17/50\n",
      "3/3 [==============================] - 0s 10ms/step - loss: 0.0258\n",
      "Epoch 18/50\n",
      "3/3 [==============================] - 0s 8ms/step - loss: 0.0252\n",
      "Epoch 19/50\n",
      "3/3 [==============================] - 0s 9ms/step - loss: 0.0243\n",
      "Epoch 20/50\n",
      "3/3 [==============================] - 0s 11ms/step - loss: 0.0246\n",
      "Epoch 21/50\n",
      "3/3 [==============================] - 0s 11ms/step - loss: 0.0251\n",
      "Epoch 22/50\n",
      "3/3 [==============================] - 0s 12ms/step - loss: 0.0242\n",
      "Epoch 23/50\n",
      "3/3 [==============================] - 0s 8ms/step - loss: 0.0234\n",
      "Epoch 24/50\n",
      "3/3 [==============================] - 0s 9ms/step - loss: 0.0240\n",
      "Epoch 25/50\n",
      "3/3 [==============================] - 0s 7ms/step - loss: 0.0262\n",
      "Epoch 26/50\n",
      "3/3 [==============================] - 0s 8ms/step - loss: 0.0274\n",
      "Epoch 27/50\n",
      "3/3 [==============================] - 0s 8ms/step - loss: 0.0253\n",
      "Epoch 28/50\n",
      "3/3 [==============================] - 0s 9ms/step - loss: 0.0225\n",
      "Epoch 29/50\n",
      "3/3 [==============================] - 0s 9ms/step - loss: 0.0234\n",
      "Epoch 30/50\n",
      "3/3 [==============================] - 0s 9ms/step - loss: 0.0236\n",
      "Epoch 31/50\n",
      "3/3 [==============================] - 0s 7ms/step - loss: 0.0222\n",
      "Epoch 32/50\n",
      "3/3 [==============================] - 0s 8ms/step - loss: 0.0219\n",
      "Epoch 33/50\n",
      "3/3 [==============================] - 0s 6ms/step - loss: 0.0226\n",
      "Epoch 34/50\n",
      "3/3 [==============================] - 0s 8ms/step - loss: 0.0226\n",
      "Epoch 35/50\n",
      "3/3 [==============================] - 0s 7ms/step - loss: 0.0216\n",
      "Epoch 36/50\n",
      "3/3 [==============================] - 0s 8ms/step - loss: 0.0220\n",
      "Epoch 37/50\n",
      "3/3 [==============================] - 0s 7ms/step - loss: 0.0222\n",
      "Epoch 38/50\n",
      "3/3 [==============================] - 0s 6ms/step - loss: 0.0212\n",
      "Epoch 39/50\n",
      "3/3 [==============================] - 0s 8ms/step - loss: 0.0209\n",
      "Epoch 40/50\n",
      "3/3 [==============================] - 0s 6ms/step - loss: 0.0206\n",
      "Epoch 41/50\n",
      "3/3 [==============================] - 0s 7ms/step - loss: 0.0204\n",
      "Epoch 42/50\n",
      "3/3 [==============================] - 0s 8ms/step - loss: 0.0207\n",
      "Epoch 43/50\n",
      "3/3 [==============================] - 0s 7ms/step - loss: 0.0206\n",
      "Epoch 44/50\n",
      "3/3 [==============================] - 0s 7ms/step - loss: 0.0200\n",
      "Epoch 45/50\n",
      "3/3 [==============================] - 0s 7ms/step - loss: 0.0198\n",
      "Epoch 46/50\n",
      "3/3 [==============================] - 0s 7ms/step - loss: 0.0197\n",
      "Epoch 47/50\n",
      "3/3 [==============================] - 0s 8ms/step - loss: 0.0196\n",
      "Epoch 48/50\n",
      "3/3 [==============================] - 0s 7ms/step - loss: 0.0192\n",
      "Epoch 49/50\n",
      "3/3 [==============================] - 0s 8ms/step - loss: 0.0187\n",
      "Epoch 50/50\n",
      "3/3 [==============================] - 0s 8ms/step - loss: 0.0188\n",
      "1/1 [==============================] - 1s 557ms/step - loss: 0.0191\n",
      "1/1 [==============================] - 1s 532ms/step\n"
     ]
    },
    {
     "data": {
      "text/plain": [
       "(array([107.9588487 , 100.76664805, 103.46373167, 102.26437955,\n",
       "        100.35074226, 110.78858271,  99.94259358, 101.39324114,\n",
       "         99.65561327, 111.14663286, 114.03089743, 110.13729977,\n",
       "        107.01866399, 110.25785566, 112.81952843, 109.88412964,\n",
       "        108.08888113, 109.01713828]),\n",
       " 'Test Loss: 0.019133079797029495',\n",
       " 'Mean Absolute Error: 3.714160731373678')"
      ]
     },
     "execution_count": 13,
     "metadata": {},
     "output_type": "execute_result"
    }
   ],
   "source": [
    "model(nike)"
   ]
  },
  {
   "cell_type": "code",
   "execution_count": 14,
   "id": "8baea2d2",
   "metadata": {},
   "outputs": [
    {
     "name": "stdout",
     "output_type": "stream",
     "text": [
      "Epoch 1/50\n",
      "3/3 [==============================] - 2s 9ms/step - loss: 0.2362\n",
      "Epoch 2/50\n",
      "3/3 [==============================] - 0s 9ms/step - loss: 0.1175\n",
      "Epoch 3/50\n",
      "3/3 [==============================] - 0s 10ms/step - loss: 0.0633\n",
      "Epoch 4/50\n",
      "3/3 [==============================] - 0s 11ms/step - loss: 0.0786\n",
      "Epoch 5/50\n",
      "3/3 [==============================] - 0s 13ms/step - loss: 0.0662\n",
      "Epoch 6/50\n",
      "3/3 [==============================] - 0s 9ms/step - loss: 0.0498\n",
      "Epoch 7/50\n",
      "3/3 [==============================] - 0s 10ms/step - loss: 0.0478\n",
      "Epoch 8/50\n",
      "3/3 [==============================] - 0s 11ms/step - loss: 0.0491\n",
      "Epoch 9/50\n",
      "3/3 [==============================] - 0s 9ms/step - loss: 0.0457\n",
      "Epoch 10/50\n",
      "3/3 [==============================] - 0s 7ms/step - loss: 0.0403\n",
      "Epoch 11/50\n",
      "3/3 [==============================] - 0s 8ms/step - loss: 0.0412\n",
      "Epoch 12/50\n",
      "3/3 [==============================] - 0s 7ms/step - loss: 0.0435\n",
      "Epoch 13/50\n",
      "3/3 [==============================] - 0s 7ms/step - loss: 0.0414\n",
      "Epoch 14/50\n",
      "3/3 [==============================] - 0s 8ms/step - loss: 0.0394\n",
      "Epoch 15/50\n",
      "3/3 [==============================] - 0s 8ms/step - loss: 0.0399\n",
      "Epoch 16/50\n",
      "3/3 [==============================] - 0s 9ms/step - loss: 0.0392\n",
      "Epoch 17/50\n",
      "3/3 [==============================] - 0s 8ms/step - loss: 0.0380\n",
      "Epoch 18/50\n",
      "3/3 [==============================] - 0s 8ms/step - loss: 0.0382\n",
      "Epoch 19/50\n",
      "3/3 [==============================] - 0s 8ms/step - loss: 0.0384\n",
      "Epoch 20/50\n",
      "3/3 [==============================] - 0s 8ms/step - loss: 0.0377\n",
      "Epoch 21/50\n",
      "3/3 [==============================] - 0s 8ms/step - loss: 0.0370\n",
      "Epoch 22/50\n",
      "3/3 [==============================] - 0s 8ms/step - loss: 0.0370\n",
      "Epoch 23/50\n",
      "3/3 [==============================] - 0s 8ms/step - loss: 0.0367\n",
      "Epoch 24/50\n",
      "3/3 [==============================] - 0s 8ms/step - loss: 0.0361\n",
      "Epoch 25/50\n",
      "3/3 [==============================] - 0s 7ms/step - loss: 0.0358\n",
      "Epoch 26/50\n",
      "3/3 [==============================] - 0s 8ms/step - loss: 0.0355\n",
      "Epoch 27/50\n",
      "3/3 [==============================] - 0s 8ms/step - loss: 0.0352\n",
      "Epoch 28/50\n",
      "3/3 [==============================] - 0s 8ms/step - loss: 0.0349\n",
      "Epoch 29/50\n",
      "3/3 [==============================] - 0s 8ms/step - loss: 0.0349\n",
      "Epoch 30/50\n",
      "3/3 [==============================] - 0s 8ms/step - loss: 0.0345\n",
      "Epoch 31/50\n",
      "3/3 [==============================] - 0s 7ms/step - loss: 0.0341\n",
      "Epoch 32/50\n",
      "3/3 [==============================] - 0s 8ms/step - loss: 0.0339\n",
      "Epoch 33/50\n",
      "3/3 [==============================] - 0s 8ms/step - loss: 0.0337\n",
      "Epoch 34/50\n",
      "3/3 [==============================] - 0s 8ms/step - loss: 0.0336\n",
      "Epoch 35/50\n",
      "3/3 [==============================] - 0s 8ms/step - loss: 0.0334\n",
      "Epoch 36/50\n",
      "3/3 [==============================] - 0s 8ms/step - loss: 0.0329\n",
      "Epoch 37/50\n",
      "3/3 [==============================] - 0s 8ms/step - loss: 0.0323\n",
      "Epoch 38/50\n",
      "3/3 [==============================] - 0s 8ms/step - loss: 0.0320\n",
      "Epoch 39/50\n",
      "3/3 [==============================] - 0s 7ms/step - loss: 0.0317\n",
      "Epoch 40/50\n",
      "3/3 [==============================] - 0s 7ms/step - loss: 0.0317\n",
      "Epoch 41/50\n",
      "3/3 [==============================] - 0s 7ms/step - loss: 0.0312\n",
      "Epoch 42/50\n",
      "3/3 [==============================] - 0s 7ms/step - loss: 0.0310\n",
      "Epoch 43/50\n",
      "3/3 [==============================] - 0s 8ms/step - loss: 0.0309\n",
      "Epoch 44/50\n",
      "3/3 [==============================] - 0s 7ms/step - loss: 0.0303\n",
      "Epoch 45/50\n",
      "3/3 [==============================] - 0s 9ms/step - loss: 0.0306\n",
      "Epoch 46/50\n",
      "3/3 [==============================] - 0s 8ms/step - loss: 0.0304\n",
      "Epoch 47/50\n",
      "3/3 [==============================] - 0s 8ms/step - loss: 0.0299\n",
      "Epoch 48/50\n",
      "3/3 [==============================] - 0s 8ms/step - loss: 0.0302\n",
      "Epoch 49/50\n",
      "3/3 [==============================] - 0s 8ms/step - loss: 0.0301\n",
      "Epoch 50/50\n",
      "3/3 [==============================] - 0s 7ms/step - loss: 0.0299\n",
      "1/1 [==============================] - 1s 532ms/step - loss: 0.0171\n",
      "1/1 [==============================] - 1s 729ms/step\n"
     ]
    },
    {
     "data": {
      "text/plain": [
       "(array([ 99.97705615,  95.33075002,  93.91570325, 101.77887513,\n",
       "         99.31157707,  99.59448968, 101.88321914,  97.65806166,\n",
       "        103.36782639,  96.08067868, 106.12850961, 101.13691055,\n",
       "         94.30035993, 100.1136909 , 102.85073618, 100.09636866,\n",
       "         99.29925773, 100.3038583 , 101.95808246, 101.99488234,\n",
       "         96.50981992, 101.16484889]),\n",
       " 'Test Loss: 0.017128417268395424',\n",
       " 'Mean Absolute Error: 2.5036735496756646')"
      ]
     },
     "execution_count": 14,
     "metadata": {},
     "output_type": "execute_result"
    }
   ],
   "source": [
    "model(starbucks)"
   ]
  },
  {
   "cell_type": "code",
   "execution_count": 15,
   "id": "ff2b40b7",
   "metadata": {},
   "outputs": [
    {
     "name": "stdout",
     "output_type": "stream",
     "text": [
      "Epoch 1/50\n",
      "4/4 [==============================] - 2s 7ms/step - loss: 0.0771\n",
      "Epoch 2/50\n",
      "4/4 [==============================] - 0s 9ms/step - loss: 0.0577\n",
      "Epoch 3/50\n",
      "4/4 [==============================] - 0s 9ms/step - loss: 0.0305\n",
      "Epoch 4/50\n",
      "4/4 [==============================] - 0s 9ms/step - loss: 0.0335\n",
      "Epoch 5/50\n",
      "4/4 [==============================] - 0s 7ms/step - loss: 0.0281\n",
      "Epoch 6/50\n",
      "4/4 [==============================] - 0s 7ms/step - loss: 0.0306\n",
      "Epoch 7/50\n",
      "4/4 [==============================] - 0s 6ms/step - loss: 0.0251\n",
      "Epoch 8/50\n",
      "4/4 [==============================] - 0s 7ms/step - loss: 0.0271\n",
      "Epoch 9/50\n",
      "4/4 [==============================] - 0s 7ms/step - loss: 0.0266\n",
      "Epoch 10/50\n",
      "4/4 [==============================] - 0s 6ms/step - loss: 0.0237\n",
      "Epoch 11/50\n",
      "4/4 [==============================] - 0s 7ms/step - loss: 0.0258\n",
      "Epoch 12/50\n",
      "4/4 [==============================] - 0s 7ms/step - loss: 0.0245\n",
      "Epoch 13/50\n",
      "4/4 [==============================] - 0s 7ms/step - loss: 0.0236\n",
      "Epoch 14/50\n",
      "4/4 [==============================] - 0s 6ms/step - loss: 0.0245\n",
      "Epoch 15/50\n",
      "4/4 [==============================] - 0s 7ms/step - loss: 0.0238\n",
      "Epoch 16/50\n",
      "4/4 [==============================] - 0s 7ms/step - loss: 0.0233\n",
      "Epoch 17/50\n",
      "4/4 [==============================] - 0s 7ms/step - loss: 0.0234\n",
      "Epoch 18/50\n",
      "4/4 [==============================] - 0s 7ms/step - loss: 0.0232\n",
      "Epoch 19/50\n",
      "4/4 [==============================] - 0s 6ms/step - loss: 0.0228\n",
      "Epoch 20/50\n",
      "4/4 [==============================] - 0s 7ms/step - loss: 0.0227\n",
      "Epoch 21/50\n",
      "4/4 [==============================] - 0s 7ms/step - loss: 0.0222\n",
      "Epoch 22/50\n",
      "4/4 [==============================] - 0s 7ms/step - loss: 0.0231\n",
      "Epoch 23/50\n",
      "4/4 [==============================] - 0s 7ms/step - loss: 0.0224\n",
      "Epoch 24/50\n",
      "4/4 [==============================] - 0s 8ms/step - loss: 0.0226\n",
      "Epoch 25/50\n",
      "4/4 [==============================] - 0s 8ms/step - loss: 0.0229\n",
      "Epoch 26/50\n",
      "4/4 [==============================] - 0s 8ms/step - loss: 0.0224\n",
      "Epoch 27/50\n",
      "4/4 [==============================] - 0s 8ms/step - loss: 0.0220\n",
      "Epoch 28/50\n",
      "4/4 [==============================] - 0s 7ms/step - loss: 0.0215\n",
      "Epoch 29/50\n",
      "4/4 [==============================] - 0s 7ms/step - loss: 0.0214\n",
      "Epoch 30/50\n",
      "4/4 [==============================] - 0s 8ms/step - loss: 0.0214\n",
      "Epoch 31/50\n",
      "4/4 [==============================] - 0s 8ms/step - loss: 0.0213\n",
      "Epoch 32/50\n",
      "4/4 [==============================] - 0s 7ms/step - loss: 0.0211\n",
      "Epoch 33/50\n",
      "4/4 [==============================] - 0s 6ms/step - loss: 0.0209\n",
      "Epoch 34/50\n",
      "4/4 [==============================] - 0s 8ms/step - loss: 0.0208\n",
      "Epoch 35/50\n",
      "4/4 [==============================] - 0s 7ms/step - loss: 0.0207\n",
      "Epoch 36/50\n",
      "4/4 [==============================] - 0s 8ms/step - loss: 0.0208\n",
      "Epoch 37/50\n",
      "4/4 [==============================] - 0s 7ms/step - loss: 0.0204\n",
      "Epoch 38/50\n",
      "4/4 [==============================] - 0s 7ms/step - loss: 0.0207\n",
      "Epoch 39/50\n",
      "4/4 [==============================] - 0s 7ms/step - loss: 0.0207\n",
      "Epoch 40/50\n",
      "4/4 [==============================] - 0s 6ms/step - loss: 0.0206\n",
      "Epoch 41/50\n",
      "4/4 [==============================] - 0s 6ms/step - loss: 0.0202\n",
      "Epoch 42/50\n",
      "4/4 [==============================] - 0s 8ms/step - loss: 0.0200\n",
      "Epoch 43/50\n",
      "4/4 [==============================] - 0s 8ms/step - loss: 0.0203\n",
      "Epoch 44/50\n",
      "4/4 [==============================] - 0s 6ms/step - loss: 0.0202\n",
      "Epoch 45/50\n",
      "4/4 [==============================] - 0s 6ms/step - loss: 0.0198\n",
      "Epoch 46/50\n",
      "4/4 [==============================] - 0s 7ms/step - loss: 0.0202\n",
      "Epoch 47/50\n",
      "4/4 [==============================] - 0s 7ms/step - loss: 0.0199\n",
      "Epoch 48/50\n",
      "4/4 [==============================] - 0s 7ms/step - loss: 0.0208\n",
      "Epoch 49/50\n",
      "4/4 [==============================] - 0s 7ms/step - loss: 0.0205\n",
      "Epoch 50/50\n",
      "4/4 [==============================] - 0s 6ms/step - loss: 0.0202\n",
      "1/1 [==============================] - 1s 535ms/step - loss: 0.0114\n",
      "1/1 [==============================] - 1s 502ms/step\n"
     ]
    },
    {
     "data": {
      "text/plain": [
       "(array([136.12982427, 151.94890613, 149.82947315, 124.48332776,\n",
       "        130.53060464, 138.29899723, 117.34501224, 135.72253328,\n",
       "        158.07901283, 159.28151861, 128.29168013, 132.3280207 ,\n",
       "        124.09910256, 128.10778522, 159.82960354, 131.95675565,\n",
       "        162.32041325, 111.35540147, 148.79044479, 155.14418168,\n",
       "        163.11406655, 122.51446574, 121.53697015, 123.68260372,\n",
       "        116.17330131, 135.74623269, 128.00835679]),\n",
       " 'Test Loss: 0.011379473842680454',\n",
       " 'Mean Absolute Error: 5.6589159572946')"
      ]
     },
     "execution_count": 15,
     "metadata": {},
     "output_type": "execute_result"
    }
   ],
   "source": [
    "model(target)"
   ]
  },
  {
   "cell_type": "code",
   "execution_count": null,
   "id": "7e44e04a",
   "metadata": {},
   "outputs": [],
   "source": []
  }
 ],
 "metadata": {
  "kernelspec": {
   "display_name": "Python 3 (ipykernel)",
   "language": "python",
   "name": "python3"
  },
  "language_info": {
   "codemirror_mode": {
    "name": "ipython",
    "version": 3
   },
   "file_extension": ".py",
   "mimetype": "text/x-python",
   "name": "python",
   "nbconvert_exporter": "python",
   "pygments_lexer": "ipython3",
   "version": "3.9.7"
  }
 },
 "nbformat": 4,
 "nbformat_minor": 5
}
